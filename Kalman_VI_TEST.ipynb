{
 "cells": [
  {
   "cell_type": "code",
   "execution_count": 1,
   "id": "692c5830-e19a-45b7-ab31-0f27c52617c2",
   "metadata": {},
   "outputs": [],
   "source": [
    "import os\n",
    "os.environ[\"CUDA_VISIBLE_DEVICES\"]=\"1\"  # specify which GPU(s) to be used\n",
    "\n",
    "import jax.numpy as np\n",
    "from jax import vmap\n",
    "import numpy as onp\n",
    "import matplotlib.pyplot as plt\n",
    "import scipy.stats\n",
    "import scipy.stats as stats\n",
    "import jax.scipy.optimize as jopt\n",
    "import jax\n",
    "from jax.config import config \n",
    "config.update(\"jax_enable_x64\",True)\n",
    "import time as time"
   ]
  },
  {
   "cell_type": "code",
   "execution_count": 2,
   "id": "04b55eac-2d7a-4c8c-9324-cbe2041911d6",
   "metadata": {},
   "outputs": [
    {
     "name": "stdout",
     "output_type": "stream",
     "text": [
      "jax backend cpu\n"
     ]
    }
   ],
   "source": [
    "from jax.lib import xla_bridge\n",
    "print(\"jax backend {}\".format(xla_bridge.get_backend().platform))"
   ]
  },
  {
   "cell_type": "code",
   "execution_count": 3,
   "id": "bbf2a4b5-679c-4de1-bca3-c65b3d866227",
   "metadata": {},
   "outputs": [
    {
     "name": "stdout",
     "output_type": "stream",
     "text": [
      "[CpuDevice(id=0)]\n"
     ]
    }
   ],
   "source": [
    "print(xla_bridge.get_backend().devices())"
   ]
  },
  {
   "cell_type": "code",
   "execution_count": 4,
   "id": "6f7c562f-b1a5-47b1-8607-ab94f04fb6d5",
   "metadata": {},
   "outputs": [],
   "source": [
    "#Use Jax to express the distance objective and its derivative\n",
    "def distance_obj2(diagPbar,P,logdetP1,n):\n",
    "    iPbar = np.diag(1.0/np.abs(diagPbar))\n",
    "    \n",
    "    #(sig1^-1 - sigbar^-1)sig0\n",
    "    M = np.matmul(iPbar,P)\n",
    "    TrM = np.trace(M)\n",
    "    t1 = 1.0/2.0 * (n - 2*TrM + np.trace(np.matmul(M,M)))\n",
    "\n",
    "    logdetPbar = np.sum(np.log(diagPbar))\n",
    "    t3 = 1.0/4.0*(logdetPbar - logdetP1 - (n-TrM))**2\n",
    "\n",
    "                                                                              \n",
    "    return t1+t3\n",
    "\n",
    "distance_obj2 = jax.jit(distance_obj2)\n",
    "dist_grad2 =  jax.jit(jax.grad(distance_obj2, argnums=(0)))\n",
    "dist_hess2 = jax.jit(jax.jacfwd(jax.jacrev(distance_obj2, argnums=(0)), argnums=(0)))"
   ]
  },
  {
   "cell_type": "code",
   "execution_count": 5,
   "id": "dfb2ba73-db95-4133-b02e-9f9aefc7611d",
   "metadata": {},
   "outputs": [],
   "source": [
    "#Use Jax to express the distance objective and its derivative\n",
    "def theta_obj(theta, Pvec, Pd_inter,x,R):\n",
    "    \n",
    "\n",
    "    Pd = np.diag(Pvec/(1.0-np.abs(theta)*Pvec))\n",
    "\n",
    "    #optimize overal max different in k\n",
    "    ninf = np.matmul(Pd,x)\n",
    "    dinf = np.add(np.matmul(np.matmul(x,Pd),x),R)\n",
    "    \n",
    "    ninter = np.matmul(Pd_inter,x)\n",
    "    dinter = np.add(np.matmul(np.matmul(x,Pd_inter),x),R)\n",
    "\n",
    "    return np.max(np.abs(ninf/dinf - ninter/dinter)/np.sqrt(Pvec))\n",
    "    \n",
    "theta_obj = jax.jit(theta_obj)\n",
    "theta_grad =  jax.jit(jax.grad(theta_obj, argnums=(0)))\n",
    "theta_hess = jax.jit(jax.jacfwd(jax.jacrev(theta_obj, argnums=(0)), argnums=(0)))"
   ]
  },
  {
   "cell_type": "code",
   "execution_count": 6,
   "id": "9e35a174-ab77-4ed3-bdba-bd49d34888a1",
   "metadata": {},
   "outputs": [],
   "source": [
    "def theta_solve(Pd,Pd_inter,x,R):\n",
    "    #compute the upper bound on theta\n",
    "    ub1= onp.min(0.99/np.diag(Pd)) #This makes Pd < Infinity really Pd*100\n",
    "    ub2= onp.max((1.0-np.diag(Pd))/np.diag(Pd)) #This makes the smallest Pd<1? is that ok? Basically trying to say we shoudl never be totally worse than the prior...\n",
    "    ub = onp.minimum(ub1,ub2)\n",
    "    optbuf = scipy.optimize.minimize(theta_obj, ub/2.0, args=(np.diag(Pd),Pd_inter,x,R), method=\"SLSQP\", jac=theta_grad, bounds=((0.0,ub),),options={'maxiter':1000})\n",
    "    return optbuf.success, np.abs(optbuf.x)"
   ]
  },
  {
   "cell_type": "code",
   "execution_count": 7,
   "id": "a595fdae-0af3-48eb-aeda-d2a01c8e7e34",
   "metadata": {},
   "outputs": [
    {
     "name": "stdout",
     "output_type": "stream",
     "text": [
      "2 0 0.0005431175231933594\n"
     ]
    },
    {
     "name": "stderr",
     "output_type": "stream",
     "text": [
      "/Users/ndas/anaconda3/lib/python3.9/site-packages/scipy/optimize/optimize.py:282: RuntimeWarning: Values in x were outside bounds during a minimize step, clipping to bounds\n",
      "  warnings.warn(\"Values in x were outside bounds during a \"\n",
      "/Users/ndas/anaconda3/lib/python3.9/site-packages/scipy/optimize/optimize.py:282: RuntimeWarning: Values in x were outside bounds during a minimize step, clipping to bounds\n",
      "  warnings.warn(\"Values in x were outside bounds during a \"\n"
     ]
    },
    {
     "name": "stdout",
     "output_type": "stream",
     "text": [
      "2 1 10.969022989273071\n"
     ]
    },
    {
     "name": "stderr",
     "output_type": "stream",
     "text": [
      "/Users/ndas/anaconda3/lib/python3.9/site-packages/scipy/optimize/optimize.py:282: RuntimeWarning: Values in x were outside bounds during a minimize step, clipping to bounds\n",
      "  warnings.warn(\"Values in x were outside bounds during a \"\n"
     ]
    },
    {
     "name": "stdout",
     "output_type": "stream",
     "text": [
      "2 2 20.924451112747192\n"
     ]
    },
    {
     "name": "stderr",
     "output_type": "stream",
     "text": [
      "/Users/ndas/anaconda3/lib/python3.9/site-packages/scipy/optimize/optimize.py:282: RuntimeWarning: Values in x were outside bounds during a minimize step, clipping to bounds\n",
      "  warnings.warn(\"Values in x were outside bounds during a \"\n",
      "/Users/ndas/anaconda3/lib/python3.9/site-packages/scipy/optimize/optimize.py:282: RuntimeWarning: Values in x were outside bounds during a minimize step, clipping to bounds\n",
      "  warnings.warn(\"Values in x were outside bounds during a \"\n",
      "/Users/ndas/anaconda3/lib/python3.9/site-packages/scipy/optimize/optimize.py:282: RuntimeWarning: Values in x were outside bounds during a minimize step, clipping to bounds\n",
      "  warnings.warn(\"Values in x were outside bounds during a \"\n",
      "/Users/ndas/anaconda3/lib/python3.9/site-packages/scipy/optimize/optimize.py:282: RuntimeWarning: Values in x were outside bounds during a minimize step, clipping to bounds\n",
      "  warnings.warn(\"Values in x were outside bounds during a \"\n",
      "/Users/ndas/anaconda3/lib/python3.9/site-packages/scipy/optimize/optimize.py:282: RuntimeWarning: Values in x were outside bounds during a minimize step, clipping to bounds\n",
      "  warnings.warn(\"Values in x were outside bounds during a \"\n",
      "/Users/ndas/anaconda3/lib/python3.9/site-packages/scipy/optimize/optimize.py:282: RuntimeWarning: Values in x were outside bounds during a minimize step, clipping to bounds\n",
      "  warnings.warn(\"Values in x were outside bounds during a \"\n"
     ]
    },
    {
     "name": "stdout",
     "output_type": "stream",
     "text": [
      "2 3 31.182199239730835\n"
     ]
    },
    {
     "name": "stderr",
     "output_type": "stream",
     "text": [
      "/Users/ndas/anaconda3/lib/python3.9/site-packages/scipy/optimize/optimize.py:282: RuntimeWarning: Values in x were outside bounds during a minimize step, clipping to bounds\n",
      "  warnings.warn(\"Values in x were outside bounds during a \"\n",
      "/Users/ndas/anaconda3/lib/python3.9/site-packages/scipy/optimize/optimize.py:282: RuntimeWarning: Values in x were outside bounds during a minimize step, clipping to bounds\n",
      "  warnings.warn(\"Values in x were outside bounds during a \"\n",
      "/Users/ndas/anaconda3/lib/python3.9/site-packages/scipy/optimize/optimize.py:282: RuntimeWarning: Values in x were outside bounds during a minimize step, clipping to bounds\n",
      "  warnings.warn(\"Values in x were outside bounds during a \"\n",
      "/Users/ndas/anaconda3/lib/python3.9/site-packages/scipy/optimize/optimize.py:282: RuntimeWarning: Values in x were outside bounds during a minimize step, clipping to bounds\n",
      "  warnings.warn(\"Values in x were outside bounds during a \"\n"
     ]
    },
    {
     "name": "stdout",
     "output_type": "stream",
     "text": [
      "2 4 41.188714027404785\n"
     ]
    },
    {
     "name": "stderr",
     "output_type": "stream",
     "text": [
      "/Users/ndas/anaconda3/lib/python3.9/site-packages/scipy/optimize/optimize.py:282: RuntimeWarning: Values in x were outside bounds during a minimize step, clipping to bounds\n",
      "  warnings.warn(\"Values in x were outside bounds during a \"\n",
      "/Users/ndas/anaconda3/lib/python3.9/site-packages/scipy/optimize/optimize.py:282: RuntimeWarning: Values in x were outside bounds during a minimize step, clipping to bounds\n",
      "  warnings.warn(\"Values in x were outside bounds during a \"\n",
      "/Users/ndas/anaconda3/lib/python3.9/site-packages/scipy/optimize/optimize.py:282: RuntimeWarning: Values in x were outside bounds during a minimize step, clipping to bounds\n",
      "  warnings.warn(\"Values in x were outside bounds during a \"\n",
      "/Users/ndas/anaconda3/lib/python3.9/site-packages/scipy/optimize/optimize.py:282: RuntimeWarning: Values in x were outside bounds during a minimize step, clipping to bounds\n",
      "  warnings.warn(\"Values in x were outside bounds during a \"\n",
      "/Users/ndas/anaconda3/lib/python3.9/site-packages/scipy/optimize/optimize.py:282: RuntimeWarning: Values in x were outside bounds during a minimize step, clipping to bounds\n",
      "  warnings.warn(\"Values in x were outside bounds during a \"\n",
      "/Users/ndas/anaconda3/lib/python3.9/site-packages/scipy/optimize/optimize.py:282: RuntimeWarning: Values in x were outside bounds during a minimize step, clipping to bounds\n",
      "  warnings.warn(\"Values in x were outside bounds during a \"\n",
      "/Users/ndas/anaconda3/lib/python3.9/site-packages/scipy/optimize/optimize.py:282: RuntimeWarning: Values in x were outside bounds during a minimize step, clipping to bounds\n",
      "  warnings.warn(\"Values in x were outside bounds during a \"\n"
     ]
    },
    {
     "name": "stdout",
     "output_type": "stream",
     "text": [
      "2 5 50.69083094596863\n"
     ]
    },
    {
     "name": "stderr",
     "output_type": "stream",
     "text": [
      "/Users/ndas/anaconda3/lib/python3.9/site-packages/scipy/optimize/optimize.py:282: RuntimeWarning: Values in x were outside bounds during a minimize step, clipping to bounds\n",
      "  warnings.warn(\"Values in x were outside bounds during a \"\n",
      "/Users/ndas/anaconda3/lib/python3.9/site-packages/scipy/optimize/optimize.py:282: RuntimeWarning: Values in x were outside bounds during a minimize step, clipping to bounds\n",
      "  warnings.warn(\"Values in x were outside bounds during a \"\n",
      "/Users/ndas/anaconda3/lib/python3.9/site-packages/scipy/optimize/optimize.py:282: RuntimeWarning: Values in x were outside bounds during a minimize step, clipping to bounds\n",
      "  warnings.warn(\"Values in x were outside bounds during a \"\n",
      "/Users/ndas/anaconda3/lib/python3.9/site-packages/scipy/optimize/optimize.py:282: RuntimeWarning: Values in x were outside bounds during a minimize step, clipping to bounds\n",
      "  warnings.warn(\"Values in x were outside bounds during a \"\n"
     ]
    },
    {
     "name": "stdout",
     "output_type": "stream",
     "text": [
      "2 6 60.02604913711548\n"
     ]
    },
    {
     "name": "stderr",
     "output_type": "stream",
     "text": [
      "/Users/ndas/anaconda3/lib/python3.9/site-packages/scipy/optimize/optimize.py:282: RuntimeWarning: Values in x were outside bounds during a minimize step, clipping to bounds\n",
      "  warnings.warn(\"Values in x were outside bounds during a \"\n",
      "/Users/ndas/anaconda3/lib/python3.9/site-packages/scipy/optimize/optimize.py:282: RuntimeWarning: Values in x were outside bounds during a minimize step, clipping to bounds\n",
      "  warnings.warn(\"Values in x were outside bounds during a \"\n"
     ]
    },
    {
     "name": "stdout",
     "output_type": "stream",
     "text": [
      "2 7 69.48416495323181\n"
     ]
    },
    {
     "name": "stderr",
     "output_type": "stream",
     "text": [
      "/Users/ndas/anaconda3/lib/python3.9/site-packages/scipy/optimize/optimize.py:282: RuntimeWarning: Values in x were outside bounds during a minimize step, clipping to bounds\n",
      "  warnings.warn(\"Values in x were outside bounds during a \"\n",
      "/Users/ndas/anaconda3/lib/python3.9/site-packages/scipy/optimize/optimize.py:282: RuntimeWarning: Values in x were outside bounds during a minimize step, clipping to bounds\n",
      "  warnings.warn(\"Values in x were outside bounds during a \"\n"
     ]
    },
    {
     "ename": "FileNotFoundError",
     "evalue": "[Errno 2] No such file or directory: '/global/cfs/cdirs/m3876/blta2/VI_Filtering/VI_Filters_1_2.npz'",
     "output_type": "error",
     "traceback": [
      "\u001b[0;31m---------------------------------------------------------------------------\u001b[0m",
      "\u001b[0;31mFileNotFoundError\u001b[0m                         Traceback (most recent call last)",
      "\u001b[1;32m/Users/ndas/Documents/Gitfolder/SANDIA/nn-training-filter/src/VI_Filter/CDC/Filter_Run2/Kalman_VI_TEST.ipynb Cell 7\u001b[0m in \u001b[0;36m<cell line: 9>\u001b[0;34m()\u001b[0m\n\u001b[1;32m    <a href='vscode-notebook-cell:/Users/ndas/Documents/Gitfolder/SANDIA/nn-training-filter/src/VI_Filter/CDC/Filter_Run2/Kalman_VI_TEST.ipynb#W6sZmlsZQ%3D%3D?line=136'>137</a>\u001b[0m     P_data[itest,:,\u001b[39m3\u001b[39m] \u001b[39m=\u001b[39m np\u001b[39m.\u001b[39mdiag(P_dist)\n\u001b[1;32m    <a href='vscode-notebook-cell:/Users/ndas/Documents/Gitfolder/SANDIA/nn-training-filter/src/VI_Filter/CDC/Filter_Run2/Kalman_VI_TEST.ipynb#W6sZmlsZQ%3D%3D?line=137'>138</a>\u001b[0m     P_data[itest,:,\u001b[39m4\u001b[39m] \u001b[39m=\u001b[39m np\u001b[39m.\u001b[39mdiag(P_dist_inf)\n\u001b[0;32m--> <a href='vscode-notebook-cell:/Users/ndas/Documents/Gitfolder/SANDIA/nn-training-filter/src/VI_Filter/CDC/Filter_Run2/Kalman_VI_TEST.ipynb#W6sZmlsZQ%3D%3D?line=138'>139</a>\u001b[0m np\u001b[39m.\u001b[39;49msavez(\u001b[39m\"\u001b[39;49m\u001b[39m/global/cfs/cdirs/m3876/blta2/VI_Filtering/VI_Filters_\u001b[39;49m\u001b[39m\"\u001b[39;49m \u001b[39m+\u001b[39;49m \u001b[39mstr\u001b[39;49m(TestID) \u001b[39m+\u001b[39;49m \u001b[39m\"\u001b[39;49m\u001b[39m_\u001b[39;49m\u001b[39m\"\u001b[39;49m \u001b[39m+\u001b[39;49m \u001b[39mstr\u001b[39;49m(n)\u001b[39m+\u001b[39;49m\u001b[39m\"\u001b[39;49m\u001b[39m.npz\u001b[39;49m\u001b[39m\"\u001b[39;49m,T\u001b[39m=\u001b[39;49mT,n\u001b[39m=\u001b[39;49mn,true_theta_data\u001b[39m=\u001b[39;49mtrue_theta_data,mu_data\u001b[39m=\u001b[39;49mmu_data,P_data\u001b[39m=\u001b[39;49mP_data)\n",
      "File \u001b[0;32m<__array_function__ internals>:5\u001b[0m, in \u001b[0;36msavez\u001b[0;34m(*args, **kwargs)\u001b[0m\n",
      "File \u001b[0;32m~/anaconda3/lib/python3.9/site-packages/numpy/lib/npyio.py:618\u001b[0m, in \u001b[0;36msavez\u001b[0;34m(file, *args, **kwds)\u001b[0m\n\u001b[1;32m    538\u001b[0m \u001b[39m@array_function_dispatch\u001b[39m(_savez_dispatcher)\n\u001b[1;32m    539\u001b[0m \u001b[39mdef\u001b[39;00m \u001b[39msavez\u001b[39m(file, \u001b[39m*\u001b[39margs, \u001b[39m*\u001b[39m\u001b[39m*\u001b[39mkwds):\n\u001b[1;32m    540\u001b[0m     \u001b[39m\"\"\"Save several arrays into a single file in uncompressed ``.npz`` format.\u001b[39;00m\n\u001b[1;32m    541\u001b[0m \n\u001b[1;32m    542\u001b[0m \u001b[39m    Provide arrays as keyword arguments to store them under the\u001b[39;00m\n\u001b[0;32m   (...)\u001b[0m\n\u001b[1;32m    616\u001b[0m \n\u001b[1;32m    617\u001b[0m \u001b[39m    \"\"\"\u001b[39;00m\n\u001b[0;32m--> 618\u001b[0m     _savez(file, args, kwds, \u001b[39mFalse\u001b[39;49;00m)\n",
      "File \u001b[0;32m~/anaconda3/lib/python3.9/site-packages/numpy/lib/npyio.py:715\u001b[0m, in \u001b[0;36m_savez\u001b[0;34m(file, args, kwds, compress, allow_pickle, pickle_kwargs)\u001b[0m\n\u001b[1;32m    712\u001b[0m \u001b[39melse\u001b[39;00m:\n\u001b[1;32m    713\u001b[0m     compression \u001b[39m=\u001b[39m zipfile\u001b[39m.\u001b[39mZIP_STORED\n\u001b[0;32m--> 715\u001b[0m zipf \u001b[39m=\u001b[39m zipfile_factory(file, mode\u001b[39m=\u001b[39;49m\u001b[39m\"\u001b[39;49m\u001b[39mw\u001b[39;49m\u001b[39m\"\u001b[39;49m, compression\u001b[39m=\u001b[39;49mcompression)\n\u001b[1;32m    717\u001b[0m \u001b[39mfor\u001b[39;00m key, val \u001b[39min\u001b[39;00m namedict\u001b[39m.\u001b[39mitems():\n\u001b[1;32m    718\u001b[0m     fname \u001b[39m=\u001b[39m key \u001b[39m+\u001b[39m \u001b[39m'\u001b[39m\u001b[39m.npy\u001b[39m\u001b[39m'\u001b[39m\n",
      "File \u001b[0;32m~/anaconda3/lib/python3.9/site-packages/numpy/lib/npyio.py:112\u001b[0m, in \u001b[0;36mzipfile_factory\u001b[0;34m(file, *args, **kwargs)\u001b[0m\n\u001b[1;32m    110\u001b[0m \u001b[39mimport\u001b[39;00m \u001b[39mzipfile\u001b[39;00m\n\u001b[1;32m    111\u001b[0m kwargs[\u001b[39m'\u001b[39m\u001b[39mallowZip64\u001b[39m\u001b[39m'\u001b[39m] \u001b[39m=\u001b[39m \u001b[39mTrue\u001b[39;00m\n\u001b[0;32m--> 112\u001b[0m \u001b[39mreturn\u001b[39;00m zipfile\u001b[39m.\u001b[39;49mZipFile(file, \u001b[39m*\u001b[39;49margs, \u001b[39m*\u001b[39;49m\u001b[39m*\u001b[39;49mkwargs)\n",
      "File \u001b[0;32m~/anaconda3/lib/python3.9/zipfile.py:1248\u001b[0m, in \u001b[0;36mZipFile.__init__\u001b[0;34m(self, file, mode, compression, allowZip64, compresslevel, strict_timestamps)\u001b[0m\n\u001b[1;32m   1246\u001b[0m \u001b[39mwhile\u001b[39;00m \u001b[39mTrue\u001b[39;00m:\n\u001b[1;32m   1247\u001b[0m     \u001b[39mtry\u001b[39;00m:\n\u001b[0;32m-> 1248\u001b[0m         \u001b[39mself\u001b[39m\u001b[39m.\u001b[39mfp \u001b[39m=\u001b[39m io\u001b[39m.\u001b[39;49mopen(file, filemode)\n\u001b[1;32m   1249\u001b[0m     \u001b[39mexcept\u001b[39;00m \u001b[39mOSError\u001b[39;00m:\n\u001b[1;32m   1250\u001b[0m         \u001b[39mif\u001b[39;00m filemode \u001b[39min\u001b[39;00m modeDict:\n",
      "\u001b[0;31mFileNotFoundError\u001b[0m: [Errno 2] No such file or directory: '/global/cfs/cdirs/m3876/blta2/VI_Filtering/VI_Filters_1_2.npz'"
     ]
    }
   ],
   "source": [
    "TestID = 1\n",
    "\n",
    "ndims = [2,4,8,16,32,64,128,256,512]\n",
    "Ntest = 8\n",
    "rng = onp.random.default_rng(31+TestID)\n",
    "\n",
    "T = 1000\n",
    "t0 = time.time()\n",
    "for idim in range(len(ndims)):\n",
    "    n = ndims[idim]\n",
    "    \n",
    "    #Data Matrices\n",
    "    #save true_theta\n",
    "    #save mu and diag of P for all tests to analyze later\n",
    "    \n",
    "    true_theta_data = onp.zeros((Ntest,n))\n",
    "    mu_data = onp.zeros((Ntest,n,5))\n",
    "    P_data = onp.zeros((Ntest,n,5))\n",
    "    \n",
    "    for itest in range(Ntest):\n",
    "        print(str(n) + \" \" +str(itest) + \" \" + str(time.time()-t0))\n",
    "        #Generate Data\n",
    "        var_noise = 0.1\n",
    "        true_theta = onp.array(rng.standard_normal(n))\n",
    "        var_x = 0.5*onp.eye(n)\n",
    "        mean_x = onp.array(rng.standard_normal(n))\n",
    "\n",
    "        x = rng.multivariate_normal(mean_x,var_x,T)\n",
    "        ymu = np.matmul(x,true_theta)\n",
    "        y = ymu+np.sqrt(var_noise)*rng.standard_normal(T)\n",
    "\n",
    "        x = np.array(x)\n",
    "        y = np.array(y)\n",
    "\n",
    "        #Initialize\n",
    "        cov_theta = 1.0*np.identity(n)# TO-DO, remove constants\n",
    "        mean_theta = np.zeros((n,1))\n",
    "\n",
    "        P_kalman = cov_theta\n",
    "        mu_kalman = mean_theta\n",
    "\n",
    "        P_vi = cov_theta\n",
    "        mu_vi = mean_theta\n",
    "\n",
    "        P_dist = cov_theta\n",
    "        mu_dist = mean_theta\n",
    "\n",
    "        P_dist_inf = cov_theta\n",
    "        P_dist_infr1 = cov_theta\n",
    "        mu_dist_inf = mean_theta\n",
    "\n",
    "        P_vi_inf = cov_theta\n",
    "        P_vi_infr1 = cov_theta\n",
    "        mu_vi_inf = mean_theta\n",
    "\n",
    "        #####NEED TO Handle when things fail\n",
    "        Fail = 0\n",
    "        Fail_vi = 0\n",
    "        P_Fail =cov_theta\n",
    "        P_Fail_vi =cov_theta\n",
    "        for i in range(T):\n",
    "            #print(i, end=\" \")\n",
    "\n",
    "            # Kalman\n",
    "            #t0 = time.time()\n",
    "            S_kalman = np.add(np.matmul(np.matmul(x[i,:],P_kalman),x[i,:]),var_noise)\n",
    "            K_kalman = np.multiply(np.matmul(P_kalman,x[i,:].reshape(n,1)),1.0/S_kalman.item())\n",
    "            mu_kalman = np.add(mu_kalman ,np.multiply(K_kalman,np.subtract(y[i,],np.matmul(x[i,:],mu_kalman))))\n",
    "            P_kalman = np.matmul(np.subtract(np.identity(n),np.matmul(K_kalman,x[i,:].reshape(1,n))),P_kalman)\n",
    "\n",
    "            # Pure VI\n",
    "            S_vi = np.add(np.matmul(np.matmul(x[i,:],P_vi),x[i,:]),var_noise)\n",
    "            K_vi = np.multiply(np.matmul(P_vi,x[i,:].reshape(n,1)),1.0/S_vi.item())\n",
    "            mu_vi = np.add(mu_vi ,np.multiply(K_vi,np.subtract(y[i,],np.matmul(x[i,:],mu_vi))))\n",
    "            P_vi_inter = np.matmul(np.subtract(np.identity(n),np.matmul(K_vi,x[i,:].reshape(1,n))),P_vi)\n",
    "            P_vi = np.diag(np.diag(P_vi_inter)) #Only keep diagonal elements\n",
    "\n",
    "            # Pure VI + Hinfnity\n",
    "            thetabool, theta = theta_solve(P_vi_inf,P_vi_infr1,x[i,:],var_noise) #find theta to make errors work...\n",
    "            P_old = P_vi_inf\n",
    "            P_vi_inf = np.matmul(P_vi_inf,np.linalg.inv(np.eye(n)-theta*P_vi_inf))\n",
    "            if (np.min(np.diag(P_vi_inf)) < 0) | (thetabool==False):\n",
    "                Fail_vi = Fail_vi + 1\n",
    "                print(\"Fail VI: \" + str(Fail_vi))\n",
    "                P_vi_inf = P_Fail_vi\n",
    "            P_Fail_vi = P_vi_inf\n",
    "            S_vi_inf = np.add(np.matmul(np.matmul(x[i,:],P_vi_inf),x[i,:]),var_noise)\n",
    "            K_vi_inf = np.multiply(np.matmul(P_vi_inf,x[i,:].reshape(n,1)),1/S_vi_inf.item())\n",
    "            mu_vi_inf = np.add(mu_vi_inf ,np.multiply(K_vi_inf,np.subtract(y[i,],np.matmul(x[i,:],mu_vi_inf))))\n",
    "            P_vi_infr1 = np.matmul(np.subtract(np.identity(n),np.matmul(K_vi_inf,x[i,:].reshape(1,n))),P_vi_inf) # TO-DO remove constants\n",
    "            P_vi_inf = np.diag(np.diag(P_vi_infr1))\n",
    "\n",
    "\n",
    "            # Distance VI\n",
    "            S_dist = np.add(np.matmul(np.matmul(x[i,:],P_dist),x[i,:]),var_noise)\n",
    "            K_dist = np.multiply(np.matmul(P_dist,x[i,:].reshape(n,1)),1.0/S_dist.item())\n",
    "            mu_dist = np.add(mu_dist ,np.multiply(K_dist,np.subtract(y[i,],np.matmul(x[i,:],mu_dist))))\n",
    "            P_dist_inter = np.matmul(np.subtract(np.identity(n),np.matmul(K_dist,x[i,:].reshape(1,n))),P_dist)\n",
    "            sign, logdetP1 = np.linalg.slogdet(P_dist_inter)\n",
    "            optbuf = scipy.optimize.minimize(distance_obj2, onp.diag(P_dist_inter), args=(P_dist_inter,logdetP1,n), method=\"Newton-CG\", hess=dist_hess2, jac=dist_grad2,options={'maxiter':1000})\n",
    "            P_dist = np.diag(np.abs(optbuf.x)) #Solve Optimization\n",
    "\n",
    "\n",
    "            # Distance VI + Hinfnity\n",
    "            thetabool, theta = theta_solve(P_dist_inf,P_dist_infr1,x[i,:],var_noise) #find theta to make errors work...\n",
    "            P_old = P_dist_inf\n",
    "            P_dist_inf = np.matmul(P_dist_inf,np.linalg.inv(np.eye(n)-theta*P_dist_inf))\n",
    "            if (np.min(np.diag(P_dist_inf)) < 0) | (thetabool==False):\n",
    "                Fail = Fail + 1\n",
    "                print(\"Fail: \" + str(Fail))\n",
    "                P_dist_inf = P_Fail #Reject past update\n",
    "\n",
    "            P_Fail = P_dist_inf\n",
    "            S_dist_inf = np.add(np.matmul(np.matmul(x[i,:],P_dist_inf),x[i,:]),var_noise)\n",
    "            K_dist_inf = np.multiply(np.matmul(P_dist_inf,x[i,:].reshape(n,1)),1/S_dist_inf.item())\n",
    "            mu_dist_inf = np.add(mu_dist_inf ,np.multiply(K_dist_inf,np.subtract(y[i,],np.matmul(x[i,:],mu_dist_inf))))\n",
    "            P_dist_infr1 = np.matmul(np.subtract(np.identity(n),np.matmul(K_dist_inf,x[i,:].reshape(1,n))),P_dist_inf) # TO-DO remove constants\n",
    "\n",
    "            sign, logdetP1 = np.linalg.slogdet(P_dist_infr1)\n",
    "            optbuf = scipy.optimize.minimize(distance_obj2, onp.diag(P_dist_infr1), args=(P_dist_infr1,logdetP1,n), method=\"Newton-CG\", jac=dist_grad2, hess=dist_hess2, options={'maxiter':1000})\n",
    "            P_dist_inf = np.diag(np.abs(optbuf.x))\n",
    "            #t2 = time.time()\n",
    "            #print((t2-t0))\n",
    "            \n",
    "            \n",
    "        #Save the outputs\n",
    "        true_theta_data[itest,:] = true_theta\n",
    "        mu_data[itest,:,0] = mu_kalman[:,-1]\n",
    "        mu_data[itest,:,1] = mu_vi[:,-1]\n",
    "        mu_data[itest,:,2] = mu_vi_inf[:,-1]\n",
    "        mu_data[itest,:,3] = mu_dist[:,-1]\n",
    "        mu_data[itest,:,4] = mu_dist_inf[:,-1]\n",
    "        \n",
    "        P_data[itest,:,0] = np.diag(P_kalman)\n",
    "        P_data[itest,:,1] = np.diag(P_vi)\n",
    "        P_data[itest,:,2] = np.diag(P_vi_inf)\n",
    "        P_data[itest,:,3] = np.diag(P_dist)\n",
    "        P_data[itest,:,4] = np.diag(P_dist_inf)\n",
    "    np.savez(\"/global/cfs/cdirs/m3876/blta2/VI_Filtering/VI_Filters_\" + str(TestID) + \"_\" + str(n)+\".npz\",T=T,n=n,true_theta_data=true_theta_data,mu_data=mu_data,P_data=P_data)"
   ]
  },
  {
   "cell_type": "code",
   "execution_count": null,
   "id": "7837a7b5-a31c-409e-8875-25e41ed838b5",
   "metadata": {},
   "outputs": [],
   "source": []
  },
  {
   "cell_type": "code",
   "execution_count": null,
   "id": "c0571cbc-3399-4518-9f96-71f87ecada81",
   "metadata": {},
   "outputs": [],
   "source": []
  },
  {
   "cell_type": "code",
   "execution_count": null,
   "id": "0803b3fc-8d80-49d5-93d4-2d1081131664",
   "metadata": {},
   "outputs": [],
   "source": []
  }
 ],
 "metadata": {
  "kernelspec": {
   "display_name": "Python 3.9.12 ('base')",
   "language": "python",
   "name": "python3"
  },
  "language_info": {
   "codemirror_mode": {
    "name": "ipython",
    "version": 3
   },
   "file_extension": ".py",
   "mimetype": "text/x-python",
   "name": "python",
   "nbconvert_exporter": "python",
   "pygments_lexer": "ipython3",
   "version": "3.9.12"
  },
  "vscode": {
   "interpreter": {
    "hash": "acb8ebc76742d99c2f40b1be674392a48fcdc6cbf70ce89798a79dd96ce51d8f"
   }
  }
 },
 "nbformat": 4,
 "nbformat_minor": 5
}
